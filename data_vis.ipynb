{
 "cells": [
  {
   "cell_type": "code",
   "execution_count": 2,
   "metadata": {},
   "outputs": [],
   "source": [
    "import pandas as pd\n",
    "import numpy as np\n",
    "import matplotlib.pyplot as plt\n",
    "import seaborn as sns\n",
    "from sklearn.linear_model import LinearRegression\n",
    "from sklearn.model_selection import train_test_split\n"
   ]
  },
  {
   "cell_type": "code",
   "execution_count": 3,
   "metadata": {},
   "outputs": [],
   "source": [
    "file_path=\"lucas_soil_ndvi_new8_postive.csv\"\n",
    "file_path2=\"lucas_soil_CI_new8_postive.csv\"\n",
    "df=pd.read_csv(file_path)\n",
    "df2=pd.read_csv(file_path2)\n",
    "df = df.dropna(subset=['Min'])\n",
    "df2 = df2.dropna(subset=['Min'])"
   ]
  },
  {
   "cell_type": "code",
   "execution_count": 36,
   "metadata": {},
   "outputs": [],
   "source": [
    "from scipy import stats\n",
    "\n",
    "# read data\n",
    "ndvi_path=\"lucas_soil_ndvi_new8_postive.csv\"\n",
    "ci_path=\"lucas_soil_CI_new8_postive.csv\"\n",
    "ndmi_path=\"lucas_soil_ndmi_new8_postive.csv\"\n",
    "ndvi_df=pd.read_csv(ndvi_path)\n",
    "ci_df=pd.read_csv(ci_path)\n",
    "ndmi_df=pd.read_csv(ndmi_path)\n",
    "\n",
    "# drop rows with missing values\n",
    "ndvi_df = ndvi_df.dropna(subset=['Mean'])\n",
    "ci_df = ci_df.dropna(subset=['Mean'])\n",
    "ndmi_df = ndmi_df.dropna(subset=['Mean'])\n",
    "\n",
    "ndvi_df['date'] = pd.to_datetime(ndvi_df['date'])\n",
    "ndvi_df['month'] = ndvi_df['date'].dt.month\n",
    "\n",
    "# Create a dataframe for PCA\n",
    "df = pd.DataFrame()  # Define the variable df\n",
    "\n",
    "df[\"CI_mean\"] = ci_df[\"Mean\"]\n",
    "df[\"ndvi_mean\"] = ndvi_df[\"Mean\"]\n",
    "df[\"ndmi_mean\"] = ndmi_df[\"Mean\"]\n",
    "df[\"month\"] = ndvi_df[\"month\"]\n",
    "\n",
    "df[\"N_level\"] = \"\"  # Initialize the 'N_level' column\n",
    "\n",
    "df[\"N\"] = ci_df[\"N\"]\n",
    "df = df.dropna(subset=['ndvi_mean'])\n",
    "df = df.dropna(subset=['ndmi_mean'])\n",
    "# Calculate z-scores for the \"N\" attribute\n",
    "z_scores = stats.zscore(df[\"N\"])\n",
    "\n",
    "# Define a threshold for outlier detection\n",
    "threshold = 3\n",
    "\n",
    "# Find the indices of outliers\n",
    "outlier_indices = np.where(np.abs(z_scores) > threshold)[0]\n",
    "\n",
    "\n",
    "\n",
    "\n",
    "indices_to_drop = [37, 131, 162, 143, 175]\n",
    "indices_to_drop = [index for index in indices_to_drop if index in df.index]\n",
    "df = df.drop(indices_to_drop, axis=0)\n",
    "df = df.reset_index(drop=True)\n",
    "\n",
    "\n",
    "\n",
    "# set up high and low Nitrogen\n",
    "for i in range(len(df)):\n",
    "    if df[\"N\"].iloc[i] >= df[\"N\"].quantile(0.75):\n",
    "        df.loc[i, \"N_level\"] = 2\n",
    "    elif df[\"N\"].iloc[i] >= df[\"N\"].quantile(0.50):\n",
    "        df.loc[i, \"N_level\"] = 1\n",
    "    else:\n",
    "        df.loc[i, \"N_level\"] = 0\n"
   ]
  },
  {
   "cell_type": "code",
   "execution_count": 46,
   "metadata": {},
   "outputs": [
    {
     "name": "stdout",
     "output_type": "stream",
     "text": [
      "[[ 1.         -0.10770373]\n",
      " [-0.10770373  1.        ]]\n"
     ]
    }
   ],
   "source": [
    "X = df[\"ndvi_mean\"].values.reshape(-1,1)\n",
    "y = df[\"N\"].values.reshape(-1,1)\n",
    "\n",
    "X_train, X_test, y_train, y_test = train_test_split(X, y, test_size=0.2, random_state=0)\n",
    "\n",
    "regressor = LinearRegression()\n",
    "regressor.fit(X_train, y_train)\n",
    "\n",
    "LinearRegression()\n",
    "\n",
    "\n",
    "print(np.corrcoef(X_train.reshape(-1), y_train.reshape(-1)))"
   ]
  },
  {
   "cell_type": "code",
   "execution_count": 42,
   "metadata": {},
   "outputs": [
    {
     "data": {
      "image/png": "[encoded data removed]",
      "text/plain": [
       "<Figure size 640x480 with 1 Axes>"
      ]
     },
     "metadata": {},
     "output_type": "display_data"
    }
   ],
   "source": [
    "\n",
    "\n",
    "y_pred = regressor.predict(X)\n",
    "\n",
    "plt.scatter(X, y,c=df[\"N_level\"],cmap='viridis')\n",
    "plt.plot(X, y_pred,color='k')\n",
    "\n",
    "plt.ylim([1, 2.5])\n",
    "\n",
    "plt.show()\n"
   ]
  },
  {
   "cell_type": "code",
   "execution_count": 7,
   "metadata": {},
   "outputs": [
    {
     "name": "stdout",
     "output_type": "stream",
     "text": [
      "Outlier indices: (array([ 52,  95, 142, 148, 164], dtype=int64), array([0, 0, 0, 0, 0], dtype=int64))\n"
     ]
    }
   ],
   "source": [
    "from scipy import stats\n",
    "\n",
    "# Assuming y_train is your data\n",
    "z_scores = np.abs(stats.zscore(y_train ))\n",
    "\n",
    "threshold = 3\n",
    "outliers = np.where(z_scores > threshold)\n",
    "\n",
    "print(f'Outlier indices: {outliers}')"
   ]
  }
 ],
 "metadata": {
  "kernelspec": {
   "display_name": "base",
   "language": "python",
   "name": "python3"
  },
  "language_info": {
   "codemirror_mode": {
    "name": "ipython",
    "version": 3
   },
   "file_extension": ".py",
   "mimetype": "text/x-python",
   "name": "python",
   "nbconvert_exporter": "python",
   "pygments_lexer": "ipython3",
   "version": "3.11.5"
  }
 },
 "nbformat": 4,
 "nbformat_minor": 2
}
