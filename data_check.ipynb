{
 "cells": [
  {
   "cell_type": "code",
   "execution_count": 2,
   "metadata": {},
   "outputs": [],
   "source": [
    "\n",
    "\n",
    "\n",
    "ndvi_path=\"lucas_soil_ndvi_new8_postive.csv\"\n",
    "ci_path=\"lucas_soil_CI_new8_postive.csv\"\n",
    "ndmi_path=\"lucas_soil_ndmi_new8_postive.csv\"\n",
    "EVI_path=\"lucas_soil_EVI_new8_postive.csv\"\n",
    "ndvi_df=pd.read_csv(ndvi_path)\n",
    "ci_df=pd.read_csv(ci_path)\n",
    "ndmi_df=pd.read_csv(ndmi_path)\n",
    "EVI_df=pd.read_csv(EVI_path)\n",
    "weather_df=pd.read_csv(\"weather_data.csv\")\n"
   ]
  },
  {
   "cell_type": "code",
   "execution_count": 1,
   "metadata": {},
   "outputs": [],
   "source": [
    "import pandas as pd\n",
    "import numpy as np"
   ]
  },
  {
   "cell_type": "code",
   "execution_count": 5,
   "metadata": {},
   "outputs": [
    {
     "name": "stdout",
     "output_type": "stream",
     "text": [
      "The number of NaN values in column 'Mean' is: 282\n"
     ]
    }
   ],
   "source": [
    "\n",
    "\n",
    "# Assuming EVI_df is your DataFrame\n",
    "column_name = 'Mean'  # Specify the column name you want to check for NaN values\n",
    "\n",
    "# Count the number of NaN values in the specified column\n",
    "nan_count = ndvi_df[column_name].isna().sum()\n",
    "\n",
    "print(f\"The number of NaN values in column '{column_name}' is: {nan_count}\")\n"
   ]
  }
 ],
 "metadata": {
  "kernelspec": {
   "display_name": "base",
   "language": "python",
   "name": "python3"
  },
  "language_info": {
   "codemirror_mode": {
    "name": "ipython",
    "version": 3
   },
   "file_extension": ".py",
   "mimetype": "text/x-python",
   "name": "python",
   "nbconvert_exporter": "python",
   "pygments_lexer": "ipython3",
   "version": "3.11.5"
  }
 },
 "nbformat": 4,
 "nbformat_minor": 2
}
